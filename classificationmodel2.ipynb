{
 "cells": [
  {
   "cell_type": "code",
   "execution_count": 20,
   "metadata": {},
   "outputs": [],
   "source": [
    "import pandas as pd \n",
    "import numpy as np\n",
    "from sklearn.model_selection import train_test_split\n",
    "from sklearn.metrics import accuracy_score\n",
    "import matplotlib.pyplot as plt"
   ]
  },
  {
   "cell_type": "code",
   "execution_count": 3,
   "metadata": {},
   "outputs": [
    {
     "data": {
      "text/html": [
       "<div>\n",
       "<style scoped>\n",
       "    .dataframe tbody tr th:only-of-type {\n",
       "        vertical-align: middle;\n",
       "    }\n",
       "\n",
       "    .dataframe tbody tr th {\n",
       "        vertical-align: top;\n",
       "    }\n",
       "\n",
       "    .dataframe thead th {\n",
       "        text-align: right;\n",
       "    }\n",
       "</style>\n",
       "<table border=\"1\" class=\"dataframe\">\n",
       "  <thead>\n",
       "    <tr style=\"text-align: right;\">\n",
       "      <th></th>\n",
       "      <th>x</th>\n",
       "      <th>y</th>\n",
       "      <th>z</th>\n",
       "      <th>Type</th>\n",
       "    </tr>\n",
       "  </thead>\n",
       "  <tbody>\n",
       "    <tr>\n",
       "      <th>0</th>\n",
       "      <td>-0.036026</td>\n",
       "      <td>1.132874</td>\n",
       "      <td>-0.534454</td>\n",
       "      <td>Walk</td>\n",
       "    </tr>\n",
       "    <tr>\n",
       "      <th>1</th>\n",
       "      <td>-0.164169</td>\n",
       "      <td>1.119904</td>\n",
       "      <td>-0.597763</td>\n",
       "      <td>Walk</td>\n",
       "    </tr>\n",
       "    <tr>\n",
       "      <th>2</th>\n",
       "      <td>-0.725891</td>\n",
       "      <td>1.733337</td>\n",
       "      <td>-0.441193</td>\n",
       "      <td>Walk</td>\n",
       "    </tr>\n",
       "    <tr>\n",
       "      <th>3</th>\n",
       "      <td>-1.081116</td>\n",
       "      <td>1.331757</td>\n",
       "      <td>0.396667</td>\n",
       "      <td>Walk</td>\n",
       "    </tr>\n",
       "    <tr>\n",
       "      <th>4</th>\n",
       "      <td>-0.712479</td>\n",
       "      <td>0.681702</td>\n",
       "      <td>0.240891</td>\n",
       "      <td>Walk</td>\n",
       "    </tr>\n",
       "  </tbody>\n",
       "</table>\n",
       "</div>"
      ],
      "text/plain": [
       "          x         y         z  Type\n",
       "0 -0.036026  1.132874 -0.534454  Walk\n",
       "1 -0.164169  1.119904 -0.597763  Walk\n",
       "2 -0.725891  1.733337 -0.441193  Walk\n",
       "3 -1.081116  1.331757  0.396667  Walk\n",
       "4 -0.712479  0.681702  0.240891  Walk"
      ]
     },
     "execution_count": 3,
     "metadata": {},
     "output_type": "execute_result"
    }
   ],
   "source": [
    "datawalk = pd.read_csv('RealData/B_Accelerometer_data/B_Accelerometer_data/wlk_7/sub_1.csv', sep=\",\")\n",
    "datawalk = datawalk.drop(datawalk.columns[0], axis=1)\n",
    "datawalk['Type'] = 'Walk'\n",
    "datawalk.head()"
   ]
  },
  {
   "cell_type": "code",
   "execution_count": 4,
   "metadata": {},
   "outputs": [
    {
     "data": {
      "text/html": [
       "<div>\n",
       "<style scoped>\n",
       "    .dataframe tbody tr th:only-of-type {\n",
       "        vertical-align: middle;\n",
       "    }\n",
       "\n",
       "    .dataframe tbody tr th {\n",
       "        vertical-align: top;\n",
       "    }\n",
       "\n",
       "    .dataframe thead th {\n",
       "        text-align: right;\n",
       "    }\n",
       "</style>\n",
       "<table border=\"1\" class=\"dataframe\">\n",
       "  <thead>\n",
       "    <tr style=\"text-align: right;\">\n",
       "      <th></th>\n",
       "      <th>x</th>\n",
       "      <th>y</th>\n",
       "      <th>z</th>\n",
       "      <th>Type</th>\n",
       "    </tr>\n",
       "  </thead>\n",
       "  <tbody>\n",
       "    <tr>\n",
       "      <th>0</th>\n",
       "      <td>0.533203</td>\n",
       "      <td>2.243454</td>\n",
       "      <td>0.436127</td>\n",
       "      <td>Jog</td>\n",
       "    </tr>\n",
       "    <tr>\n",
       "      <th>1</th>\n",
       "      <td>-0.611053</td>\n",
       "      <td>4.284424</td>\n",
       "      <td>-2.440475</td>\n",
       "      <td>Jog</td>\n",
       "    </tr>\n",
       "    <tr>\n",
       "      <th>2</th>\n",
       "      <td>-1.465057</td>\n",
       "      <td>1.312225</td>\n",
       "      <td>1.023117</td>\n",
       "      <td>Jog</td>\n",
       "    </tr>\n",
       "    <tr>\n",
       "      <th>3</th>\n",
       "      <td>-0.450760</td>\n",
       "      <td>0.076752</td>\n",
       "      <td>0.908340</td>\n",
       "      <td>Jog</td>\n",
       "    </tr>\n",
       "    <tr>\n",
       "      <th>4</th>\n",
       "      <td>-0.054520</td>\n",
       "      <td>-0.101074</td>\n",
       "      <td>0.981995</td>\n",
       "      <td>Jog</td>\n",
       "    </tr>\n",
       "  </tbody>\n",
       "</table>\n",
       "</div>"
      ],
      "text/plain": [
       "          x         y         z Type\n",
       "0  0.533203  2.243454  0.436127  Jog\n",
       "1 -0.611053  4.284424 -2.440475  Jog\n",
       "2 -1.465057  1.312225  1.023117  Jog\n",
       "3 -0.450760  0.076752  0.908340  Jog\n",
       "4 -0.054520 -0.101074  0.981995  Jog"
      ]
     },
     "execution_count": 4,
     "metadata": {},
     "output_type": "execute_result"
    }
   ],
   "source": [
    "datajog = pd.read_csv('RealData/B_Accelerometer_data/B_Accelerometer_data/jog_9/sub_1.csv', sep=\",\")\n",
    "datajog = datajog.drop(datajog.columns[0], axis=1)\n",
    "datajog['Type'] = 'Jog'\n",
    "datajog.head()"
   ]
  },
  {
   "cell_type": "code",
   "execution_count": 5,
   "metadata": {},
   "outputs": [
    {
     "data": {
      "text/html": [
       "<div>\n",
       "<style scoped>\n",
       "    .dataframe tbody tr th:only-of-type {\n",
       "        vertical-align: middle;\n",
       "    }\n",
       "\n",
       "    .dataframe tbody tr th {\n",
       "        vertical-align: top;\n",
       "    }\n",
       "\n",
       "    .dataframe thead th {\n",
       "        text-align: right;\n",
       "    }\n",
       "</style>\n",
       "<table border=\"1\" class=\"dataframe\">\n",
       "  <thead>\n",
       "    <tr style=\"text-align: right;\">\n",
       "      <th></th>\n",
       "      <th>x</th>\n",
       "      <th>y</th>\n",
       "      <th>z</th>\n",
       "      <th>Type</th>\n",
       "    </tr>\n",
       "  </thead>\n",
       "  <tbody>\n",
       "    <tr>\n",
       "      <th>0</th>\n",
       "      <td>0.318314</td>\n",
       "      <td>0.411255</td>\n",
       "      <td>-0.862122</td>\n",
       "      <td>Sit</td>\n",
       "    </tr>\n",
       "    <tr>\n",
       "      <th>1</th>\n",
       "      <td>0.319397</td>\n",
       "      <td>0.408234</td>\n",
       "      <td>-0.863922</td>\n",
       "      <td>Sit</td>\n",
       "    </tr>\n",
       "    <tr>\n",
       "      <th>2</th>\n",
       "      <td>0.309860</td>\n",
       "      <td>0.406281</td>\n",
       "      <td>-0.863373</td>\n",
       "      <td>Sit</td>\n",
       "    </tr>\n",
       "    <tr>\n",
       "      <th>3</th>\n",
       "      <td>0.318176</td>\n",
       "      <td>0.412018</td>\n",
       "      <td>-0.862961</td>\n",
       "      <td>Sit</td>\n",
       "    </tr>\n",
       "    <tr>\n",
       "      <th>4</th>\n",
       "      <td>0.317642</td>\n",
       "      <td>0.410065</td>\n",
       "      <td>-0.867920</td>\n",
       "      <td>Sit</td>\n",
       "    </tr>\n",
       "  </tbody>\n",
       "</table>\n",
       "</div>"
      ],
      "text/plain": [
       "          x         y         z Type\n",
       "0  0.318314  0.411255 -0.862122  Sit\n",
       "1  0.319397  0.408234 -0.863922  Sit\n",
       "2  0.309860  0.406281 -0.863373  Sit\n",
       "3  0.318176  0.412018 -0.862961  Sit\n",
       "4  0.317642  0.410065 -0.867920  Sit"
      ]
     },
     "execution_count": 5,
     "metadata": {},
     "output_type": "execute_result"
    }
   ],
   "source": [
    "datasit = pd.read_csv('RealData/B_Accelerometer_data/B_Accelerometer_data/sit_5/sub_1.csv', sep=\",\")\n",
    "datasit = datasit.drop(datasit.columns[0], axis=1)\n",
    "datasit['Type'] = 'Sit'\n",
    "datasit.head()"
   ]
  },
  {
   "cell_type": "code",
   "execution_count": 10,
   "metadata": {},
   "outputs": [],
   "source": [
    "frames = [datawalk, datajog, datasit]\n",
    "data = pd.concat(frames)"
   ]
  },
  {
   "cell_type": "code",
   "execution_count": 12,
   "metadata": {},
   "outputs": [
    {
     "name": "stdout",
     "output_type": "stream",
     "text": [
      "<class 'pandas.core.frame.DataFrame'>\n",
      "Int64Index: 20859 entries, 0 to 10418\n",
      "Data columns (total 4 columns):\n",
      " #   Column  Non-Null Count  Dtype  \n",
      "---  ------  --------------  -----  \n",
      " 0   x       20859 non-null  float64\n",
      " 1   y       20859 non-null  float64\n",
      " 2   z       20859 non-null  float64\n",
      " 3   Type    20859 non-null  object \n",
      "dtypes: float64(3), object(1)\n",
      "memory usage: 814.8+ KB\n"
     ]
    }
   ],
   "source": [
    "data.info()\n"
   ]
  },
  {
   "cell_type": "code",
   "execution_count": 13,
   "metadata": {},
   "outputs": [
    {
     "data": {
      "text/html": [
       "<div>\n",
       "<style scoped>\n",
       "    .dataframe tbody tr th:only-of-type {\n",
       "        vertical-align: middle;\n",
       "    }\n",
       "\n",
       "    .dataframe tbody tr th {\n",
       "        vertical-align: top;\n",
       "    }\n",
       "\n",
       "    .dataframe thead th {\n",
       "        text-align: right;\n",
       "    }\n",
       "</style>\n",
       "<table border=\"1\" class=\"dataframe\">\n",
       "  <thead>\n",
       "    <tr style=\"text-align: right;\">\n",
       "      <th></th>\n",
       "      <th>x</th>\n",
       "      <th>y</th>\n",
       "      <th>z</th>\n",
       "      <th>Type</th>\n",
       "    </tr>\n",
       "  </thead>\n",
       "  <tbody>\n",
       "    <tr>\n",
       "      <th>0</th>\n",
       "      <td>-0.036026</td>\n",
       "      <td>1.132874</td>\n",
       "      <td>-0.534454</td>\n",
       "      <td>Walk</td>\n",
       "    </tr>\n",
       "    <tr>\n",
       "      <th>1</th>\n",
       "      <td>-0.164169</td>\n",
       "      <td>1.119904</td>\n",
       "      <td>-0.597763</td>\n",
       "      <td>Walk</td>\n",
       "    </tr>\n",
       "    <tr>\n",
       "      <th>2</th>\n",
       "      <td>-0.725891</td>\n",
       "      <td>1.733337</td>\n",
       "      <td>-0.441193</td>\n",
       "      <td>Walk</td>\n",
       "    </tr>\n",
       "    <tr>\n",
       "      <th>3</th>\n",
       "      <td>-1.081116</td>\n",
       "      <td>1.331757</td>\n",
       "      <td>0.396667</td>\n",
       "      <td>Walk</td>\n",
       "    </tr>\n",
       "    <tr>\n",
       "      <th>4</th>\n",
       "      <td>-0.712479</td>\n",
       "      <td>0.681702</td>\n",
       "      <td>0.240891</td>\n",
       "      <td>Walk</td>\n",
       "    </tr>\n",
       "    <tr>\n",
       "      <th>...</th>\n",
       "      <td>...</td>\n",
       "      <td>...</td>\n",
       "      <td>...</td>\n",
       "      <td>...</td>\n",
       "    </tr>\n",
       "    <tr>\n",
       "      <th>10414</th>\n",
       "      <td>0.348114</td>\n",
       "      <td>0.378433</td>\n",
       "      <td>-0.887390</td>\n",
       "      <td>Sit</td>\n",
       "    </tr>\n",
       "    <tr>\n",
       "      <th>10415</th>\n",
       "      <td>0.346649</td>\n",
       "      <td>0.371063</td>\n",
       "      <td>-0.877670</td>\n",
       "      <td>Sit</td>\n",
       "    </tr>\n",
       "    <tr>\n",
       "      <th>10416</th>\n",
       "      <td>0.340668</td>\n",
       "      <td>0.354324</td>\n",
       "      <td>-0.869843</td>\n",
       "      <td>Sit</td>\n",
       "    </tr>\n",
       "    <tr>\n",
       "      <th>10417</th>\n",
       "      <td>0.342819</td>\n",
       "      <td>0.352432</td>\n",
       "      <td>-0.874908</td>\n",
       "      <td>Sit</td>\n",
       "    </tr>\n",
       "    <tr>\n",
       "      <th>10418</th>\n",
       "      <td>0.347458</td>\n",
       "      <td>0.356140</td>\n",
       "      <td>-0.875885</td>\n",
       "      <td>Sit</td>\n",
       "    </tr>\n",
       "  </tbody>\n",
       "</table>\n",
       "<p>20859 rows × 4 columns</p>\n",
       "</div>"
      ],
      "text/plain": [
       "              x         y         z  Type\n",
       "0     -0.036026  1.132874 -0.534454  Walk\n",
       "1     -0.164169  1.119904 -0.597763  Walk\n",
       "2     -0.725891  1.733337 -0.441193  Walk\n",
       "3     -1.081116  1.331757  0.396667  Walk\n",
       "4     -0.712479  0.681702  0.240891  Walk\n",
       "...         ...       ...       ...   ...\n",
       "10414  0.348114  0.378433 -0.887390   Sit\n",
       "10415  0.346649  0.371063 -0.877670   Sit\n",
       "10416  0.340668  0.354324 -0.869843   Sit\n",
       "10417  0.342819  0.352432 -0.874908   Sit\n",
       "10418  0.347458  0.356140 -0.875885   Sit\n",
       "\n",
       "[20859 rows x 4 columns]"
      ]
     },
     "execution_count": 13,
     "metadata": {},
     "output_type": "execute_result"
    }
   ],
   "source": [
    "data"
   ]
  },
  {
   "cell_type": "code",
   "execution_count": 17,
   "metadata": {},
   "outputs": [],
   "source": [
    "y = data['Type'].values\n",
    "X = data[['x','y','z']]\n",
    "\n",
    "##data is splitted for train and test\n",
    "X_train, X_test, y_train, y_test = train_test_split(X , y, test_size = 0.20, random_state = 21, stratify = y)"
   ]
  },
  {
   "cell_type": "code",
   "execution_count": 18,
   "metadata": {},
   "outputs": [
    {
     "name": "stdout",
     "output_type": "stream",
     "text": [
      "Prediction result: ['Sit' 'Sit' 'Walk' ... 'Sit' 'Sit' 'Walk'] of MLPClassifier\n"
     ]
    }
   ],
   "source": [
    "from sklearn.neural_network import MLPClassifier               ##train with MLPClassifier\n",
    "\n",
    "clf = MLPClassifier(hidden_layer_sizes=(100,100,100))\n",
    "\n",
    "##rain the data\n",
    "clf.fit(X_train,y_train)\n",
    "\n",
    "##predict the value\n",
    "y_predict = clf.predict(X_test)\n",
    "\n",
    "##show the result\n",
    "print(\"Prediction result: {} of MLPClassifier\".format(y_predict))"
   ]
  },
  {
   "cell_type": "code",
   "execution_count": 21,
   "metadata": {},
   "outputs": [
    {
     "name": "stdout",
     "output_type": "stream",
     "text": [
      "Prediction accuracy 0.9245 for MLPClassifieraccuracyScore\n"
     ]
    }
   ],
   "source": [
    "MLPClassifieraccuracyScore = round(accuracy_score(y_test,y_predict),4)\n",
    "print(\"Prediction accuracy {} for MLPClassifieraccuracyScore\".format(MLPClassifieraccuracyScore))"
   ]
  },
  {
   "cell_type": "code",
   "execution_count": null,
   "metadata": {},
   "outputs": [],
   "source": []
  }
 ],
 "metadata": {
  "kernelspec": {
   "display_name": "Python 3",
   "language": "python",
   "name": "python3"
  },
  "language_info": {
   "codemirror_mode": {
    "name": "ipython",
    "version": 3
   },
   "file_extension": ".py",
   "mimetype": "text/x-python",
   "name": "python",
   "nbconvert_exporter": "python",
   "pygments_lexer": "ipython3",
   "version": "3.7.6"
  }
 },
 "nbformat": 4,
 "nbformat_minor": 4
}
